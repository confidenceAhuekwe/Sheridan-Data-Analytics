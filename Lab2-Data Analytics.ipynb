{
 "cells": [
  {
   "cell_type": "markdown",
   "id": "06a6ad85",
   "metadata": {},
   "source": [
    "# Data Analytics - Lab2\n",
    "\n",
    "Student Name: Confidence Ahuekwe | Student Number: 991714953 "
   ]
  },
  {
   "cell_type": "code",
   "execution_count": 102,
   "id": "d1cc3a8e",
   "metadata": {},
   "outputs": [],
   "source": [
    "# Import NumPy for numerical computing\n",
    "import numpy as np\n",
    "\n",
    "# Import Pandas for data manipulation\n",
    "import pandas as pd\n",
    "\n",
    "# Import SciPy for scientific computing\n",
    "import scipy as sp\n",
    "\n",
    "# Import matplotlib for plotting\n",
    "import matplotlib.pyplot as plt\n",
    "\n",
    "# Import seaborn\n",
    "import seaborn as sns\n",
    "from scipy.stats import shapiro\n",
    "\n",
    "# Import csv for reading comma-separated values files\n",
    "import csv\n"
   ]
  },
  {
   "cell_type": "code",
   "execution_count": 103,
   "id": "3ffdb13d",
   "metadata": {},
   "outputs": [
    {
     "data": {
      "text/html": [
       "<div>\n",
       "<style scoped>\n",
       "    .dataframe tbody tr th:only-of-type {\n",
       "        vertical-align: middle;\n",
       "    }\n",
       "\n",
       "    .dataframe tbody tr th {\n",
       "        vertical-align: top;\n",
       "    }\n",
       "\n",
       "    .dataframe thead th {\n",
       "        text-align: right;\n",
       "    }\n",
       "</style>\n",
       "<table border=\"1\" class=\"dataframe\">\n",
       "  <thead>\n",
       "    <tr style=\"text-align: right;\">\n",
       "      <th></th>\n",
       "      <th>eruptions</th>\n",
       "      <th>waiting</th>\n",
       "    </tr>\n",
       "  </thead>\n",
       "  <tbody>\n",
       "    <tr>\n",
       "      <th>0</th>\n",
       "      <td>3.600</td>\n",
       "      <td>79</td>\n",
       "    </tr>\n",
       "    <tr>\n",
       "      <th>1</th>\n",
       "      <td>1.800</td>\n",
       "      <td>54</td>\n",
       "    </tr>\n",
       "    <tr>\n",
       "      <th>2</th>\n",
       "      <td>3.333</td>\n",
       "      <td>74</td>\n",
       "    </tr>\n",
       "    <tr>\n",
       "      <th>3</th>\n",
       "      <td>2.283</td>\n",
       "      <td>62</td>\n",
       "    </tr>\n",
       "    <tr>\n",
       "      <th>4</th>\n",
       "      <td>4.533</td>\n",
       "      <td>85</td>\n",
       "    </tr>\n",
       "  </tbody>\n",
       "</table>\n",
       "</div>"
      ],
      "text/plain": [
       "   eruptions  waiting\n",
       "0      3.600       79\n",
       "1      1.800       54\n",
       "2      3.333       74\n",
       "3      2.283       62\n",
       "4      4.533       85"
      ]
     },
     "execution_count": 103,
     "metadata": {},
     "output_type": "execute_result"
    }
   ],
   "source": [
    "df.head() #displays the columns and the first five rows of the dataframe"
   ]
  },
  {
   "cell_type": "code",
   "execution_count": 104,
   "id": "33ccf96f",
   "metadata": {},
   "outputs": [
    {
     "data": {
      "text/html": [
       "<div>\n",
       "<style scoped>\n",
       "    .dataframe tbody tr th:only-of-type {\n",
       "        vertical-align: middle;\n",
       "    }\n",
       "\n",
       "    .dataframe tbody tr th {\n",
       "        vertical-align: top;\n",
       "    }\n",
       "\n",
       "    .dataframe thead th {\n",
       "        text-align: right;\n",
       "    }\n",
       "</style>\n",
       "<table border=\"1\" class=\"dataframe\">\n",
       "  <thead>\n",
       "    <tr style=\"text-align: right;\">\n",
       "      <th></th>\n",
       "      <th>eruptions</th>\n",
       "      <th>waiting</th>\n",
       "    </tr>\n",
       "  </thead>\n",
       "  <tbody>\n",
       "    <tr>\n",
       "      <th>267</th>\n",
       "      <td>4.117</td>\n",
       "      <td>81</td>\n",
       "    </tr>\n",
       "    <tr>\n",
       "      <th>268</th>\n",
       "      <td>2.150</td>\n",
       "      <td>46</td>\n",
       "    </tr>\n",
       "    <tr>\n",
       "      <th>269</th>\n",
       "      <td>4.417</td>\n",
       "      <td>90</td>\n",
       "    </tr>\n",
       "    <tr>\n",
       "      <th>270</th>\n",
       "      <td>1.817</td>\n",
       "      <td>46</td>\n",
       "    </tr>\n",
       "    <tr>\n",
       "      <th>271</th>\n",
       "      <td>4.467</td>\n",
       "      <td>74</td>\n",
       "    </tr>\n",
       "  </tbody>\n",
       "</table>\n",
       "</div>"
      ],
      "text/plain": [
       "     eruptions  waiting\n",
       "267      4.117       81\n",
       "268      2.150       46\n",
       "269      4.417       90\n",
       "270      1.817       46\n",
       "271      4.467       74"
      ]
     },
     "execution_count": 104,
     "metadata": {},
     "output_type": "execute_result"
    }
   ],
   "source": [
    "df.tail() #displays the columns and the last five rows of the dataframe"
   ]
  },
  {
   "cell_type": "code",
   "execution_count": 105,
   "id": "552fed5f",
   "metadata": {},
   "outputs": [
    {
     "data": {
      "text/plain": [
       "(272, 2)"
      ]
     },
     "execution_count": 105,
     "metadata": {},
     "output_type": "execute_result"
    }
   ],
   "source": [
    "df.shape #shows the number of rows and number columns in the dataframe"
   ]
  },
  {
   "cell_type": "code",
   "execution_count": 106,
   "id": "22ef7440",
   "metadata": {},
   "outputs": [
    {
     "data": {
      "text/plain": [
       "Index(['eruptions', 'waiting'], dtype='object')"
      ]
     },
     "execution_count": 106,
     "metadata": {},
     "output_type": "execute_result"
    }
   ],
   "source": [
    "df.columns # shows the list of columns in the dataframe and the datatype"
   ]
  },
  {
   "cell_type": "code",
   "execution_count": 107,
   "id": "19716aad",
   "metadata": {},
   "outputs": [
    {
     "name": "stdout",
     "output_type": "stream",
     "text": [
      "<class 'pandas.core.frame.DataFrame'>\n",
      "RangeIndex: 272 entries, 0 to 271\n",
      "Data columns (total 2 columns):\n",
      " #   Column     Non-Null Count  Dtype  \n",
      "---  ------     --------------  -----  \n",
      " 0   eruptions  272 non-null    float64\n",
      " 1   waiting    272 non-null    int64  \n",
      "dtypes: float64(1), int64(1)\n",
      "memory usage: 4.4 KB\n"
     ]
    }
   ],
   "source": [
    "df.info() # gives a detailed information about the dataframe including the memory size"
   ]
  },
  {
   "cell_type": "markdown",
   "id": "4b45dd64",
   "metadata": {},
   "source": [
    "## Question No.1:"
   ]
  },
  {
   "cell_type": "code",
   "execution_count": 109,
   "id": "8d38e5d7",
   "metadata": {},
   "outputs": [
    {
     "data": {
      "text/html": [
       "<div>\n",
       "<style scoped>\n",
       "    .dataframe tbody tr th:only-of-type {\n",
       "        vertical-align: middle;\n",
       "    }\n",
       "\n",
       "    .dataframe tbody tr th {\n",
       "        vertical-align: top;\n",
       "    }\n",
       "\n",
       "    .dataframe thead th {\n",
       "        text-align: right;\n",
       "    }\n",
       "</style>\n",
       "<table border=\"1\" class=\"dataframe\">\n",
       "  <thead>\n",
       "    <tr style=\"text-align: right;\">\n",
       "      <th></th>\n",
       "      <th>eruptions</th>\n",
       "      <th>waiting</th>\n",
       "    </tr>\n",
       "  </thead>\n",
       "  <tbody>\n",
       "    <tr>\n",
       "      <th>count</th>\n",
       "      <td>272.000000</td>\n",
       "      <td>272.000000</td>\n",
       "    </tr>\n",
       "    <tr>\n",
       "      <th>mean</th>\n",
       "      <td>3.487783</td>\n",
       "      <td>70.897059</td>\n",
       "    </tr>\n",
       "    <tr>\n",
       "      <th>std</th>\n",
       "      <td>1.141371</td>\n",
       "      <td>13.594974</td>\n",
       "    </tr>\n",
       "    <tr>\n",
       "      <th>min</th>\n",
       "      <td>1.600000</td>\n",
       "      <td>43.000000</td>\n",
       "    </tr>\n",
       "    <tr>\n",
       "      <th>25%</th>\n",
       "      <td>2.162750</td>\n",
       "      <td>58.000000</td>\n",
       "    </tr>\n",
       "    <tr>\n",
       "      <th>50%</th>\n",
       "      <td>4.000000</td>\n",
       "      <td>76.000000</td>\n",
       "    </tr>\n",
       "    <tr>\n",
       "      <th>75%</th>\n",
       "      <td>4.454250</td>\n",
       "      <td>82.000000</td>\n",
       "    </tr>\n",
       "    <tr>\n",
       "      <th>max</th>\n",
       "      <td>5.100000</td>\n",
       "      <td>96.000000</td>\n",
       "    </tr>\n",
       "  </tbody>\n",
       "</table>\n",
       "</div>"
      ],
      "text/plain": [
       "        eruptions     waiting\n",
       "count  272.000000  272.000000\n",
       "mean     3.487783   70.897059\n",
       "std      1.141371   13.594974\n",
       "min      1.600000   43.000000\n",
       "25%      2.162750   58.000000\n",
       "50%      4.000000   76.000000\n",
       "75%      4.454250   82.000000\n",
       "max      5.100000   96.000000"
      ]
     },
     "execution_count": 109,
     "metadata": {},
     "output_type": "execute_result"
    }
   ],
   "source": [
    "# Read the geyser.csv file into a data frame\n",
    "df = pd.read_csv(\"geyser.csv\") # where stands for DataFrame\n",
    "\n",
    "# Display the summary statistics of the data frame\n",
    "df.describe()"
   ]
  },
  {
   "cell_type": "markdown",
   "id": "780697df",
   "metadata": {},
   "source": [
    "## Question No.2:"
   ]
  },
  {
   "cell_type": "code",
   "execution_count": 110,
   "id": "e8a1c7bf",
   "metadata": {},
   "outputs": [
    {
     "data": {
      "image/png": "[encoded data removed]",
      "text/plain": [
       "<Figure size 1000x500 with 2 Axes>"
      ]
     },
     "metadata": {},
     "output_type": "display_data"
    }
   ],
   "source": [
    "# Create a histogram of the data\n",
    "df.hist(bins=10, figsize=(10,5), color=\"darkblue\") # Plots a histogram of the DataFrame's columns using the pandas library. \n",
    "\n",
    "# Show the histogram\n",
    "plt.show()"
   ]
  },
  {
   "cell_type": "markdown",
   "id": "77dc1d6d",
   "metadata": {},
   "source": [
    "## Question No.3:"
   ]
  },
  {
   "cell_type": "code",
   "execution_count": 111,
   "id": "f64d53da",
   "metadata": {},
   "outputs": [
    {
     "data": {
      "image/png": "[encoded data removed]",
      "text/plain": [
       "<Figure size 1000x500 with 1 Axes>"
      ]
     },
     "metadata": {},
     "output_type": "display_data"
    }
   ],
   "source": [
    "#Creating a Boxplot from the DataFrame\n",
    "df.boxplot(grid=False, vert=False, fontsize=15, figsize=(10,5), color=\"blue\")\n",
    "\n",
    "# grid=False: Removes grid lines in the background.\n",
    "# vert=False: This means that the box plot will be horizontal, instead of vertical. \n",
    "#Hence, labels of the DataFrame columns will be on the y-axis, and the values will be on the x-axis.\n",
    "# fontsize=15: Sets the font size of the labels and ticks to be 15 points.\n",
    "# figsize=(10,5): This means that the size of the figure will be 10 inches wide and 5 inches high.\n",
    "# color=“blue”: Sets the color of the box plot elements to be blue.\n",
    "\n",
    "# Show the boxplot\n",
    "plt.show()"
   ]
  },
  {
   "cell_type": "markdown",
   "id": "7c7c3071",
   "metadata": {},
   "source": [
    "## Question No. 4:"
   ]
  },
  {
   "cell_type": "code",
   "execution_count": 112,
   "id": "f53d210b",
   "metadata": {},
   "outputs": [
    {
     "name": "stdout",
     "output_type": "stream",
     "text": [
      "Skewness of the data: \n",
      "eruptions   -0.418150\n",
      "waiting     -0.418631\n",
      "dtype: float64\n"
     ]
    }
   ],
   "source": [
    "# Checking for skewness\n",
    "print(\"Skewness of the data: \")\n",
    "print(df.skew())"
   ]
  },
  {
   "cell_type": "markdown",
   "id": "ec964ca0",
   "metadata": {},
   "source": [
    "Note: From the values above, we can deduce that the data is not symmetric as the values are not equal to zero.\n",
    "The skewness of the eruptions variable is -0.418150, which means that the distribution is slightly skewed to the right. \n",
    "The skewness of the waiting variable is -0.418631, which means that the distribution is also slightly skewed to the right. Both variables have a similar degree of skewness which can also be seen from the the histogram."
   ]
  },
  {
   "cell_type": "markdown",
   "id": "77bb84af",
   "metadata": {},
   "source": [
    "## Question No.5:"
   ]
  },
  {
   "cell_type": "code",
   "execution_count": 113,
   "id": "7cca469b",
   "metadata": {},
   "outputs": [
    {
     "name": "stdout",
     "output_type": "stream",
     "text": [
      "\n",
      " Shapiro-Wilk Test for 'eruptions': \n",
      "ShapiroResult(statistic=0.8459155559539795, pvalue=9.03598972142245e-16)\n",
      "\n",
      " Shapiro-Wilk Test for 'waiting': \n",
      "ShapiroResult(statistic=0.922146737575531, pvalue=1.015239073365315e-10)\n"
     ]
    }
   ],
   "source": [
    "# Normality test\n",
    "print(\"\\n Shapiro-Wilk Test for 'eruptions': \")\n",
    "print(shapiro(df['eruptions']))\n",
    "print(\"\\n Shapiro-Wilk Test for 'waiting': \")\n",
    "print(shapiro(df['waiting']))"
   ]
  },
  {
   "cell_type": "markdown",
   "id": "6681d207",
   "metadata": {},
   "source": [
    "Note: The Shapiro-Wilk test for the eruptions variable returns a test statistic of 0.8459 and a p-value of 9.04e-16. The Shapiro-Wilk test for the waiting variable returns a test statistic of 0.9221 and a p-value of 1.02e-10. Both p-values are very small and much less than the significance level of 0.05, which is commonly used to make a decision about normality. \n",
    "Hence, we can reject the null hypothesis that the sample data comes from a normal distribution, and conclude that the sample data is not normally distributed."
   ]
  },
  {
   "cell_type": "markdown",
   "id": "b14b6371",
   "metadata": {},
   "source": [
    "## Question No.6:"
   ]
  },
  {
   "cell_type": "code",
   "execution_count": 114,
   "id": "2c793baf",
   "metadata": {},
   "outputs": [
    {
     "name": "stdout",
     "output_type": "stream",
     "text": [
      "0      3.600\n",
      "1      1.800\n",
      "2      3.333\n",
      "3      2.283\n",
      "4      4.533\n",
      "       ...  \n",
      "267    4.117\n",
      "268    2.150\n",
      "269    4.417\n",
      "270    1.817\n",
      "271    4.467\n",
      "Name: eruptions, Length: 272, dtype: float64\n"
     ]
    }
   ],
   "source": [
    "print(df['eruptions'])"
   ]
  },
  {
   "cell_type": "code",
   "execution_count": 116,
   "id": "3bbeeb1e",
   "metadata": {},
   "outputs": [
    {
     "name": "stdout",
     "output_type": "stream",
     "text": [
      "long\n",
      "short\n",
      "long\n",
      "short\n",
      "long\n",
      "short\n",
      "long\n",
      "long\n",
      "short\n",
      "long\n",
      "short\n",
      "long\n",
      "long\n",
      "short\n",
      "long\n",
      "short\n",
      "short\n",
      "long\n",
      "short\n",
      "long\n",
      "short\n",
      "short\n",
      "long\n",
      "long\n",
      "long\n",
      "long\n",
      "short\n",
      "long\n",
      "long\n",
      "long\n",
      "long\n",
      "long\n",
      "long\n",
      "long\n",
      "long\n",
      "short\n",
      "short\n",
      "long\n",
      "short\n",
      "long\n",
      "long\n",
      "short\n",
      "long\n",
      "short\n",
      "long\n",
      "long\n",
      "long\n",
      "short\n",
      "long\n",
      "short\n",
      "long\n",
      "long\n",
      "short\n",
      "long\n",
      "short\n",
      "long\n",
      "long\n",
      "short\n",
      "long\n",
      "long\n",
      "short\n",
      "long\n",
      "short\n",
      "long\n",
      "short\n",
      "long\n",
      "long\n",
      "long\n",
      "short\n",
      "long\n",
      "long\n",
      "short\n",
      "long\n",
      "long\n",
      "short\n",
      "long\n",
      "short\n",
      "long\n",
      "long\n",
      "long\n",
      "long\n",
      "long\n",
      "long\n",
      "short\n",
      "long\n",
      "long\n",
      "long\n",
      "long\n",
      "short\n",
      "long\n",
      "short\n",
      "long\n",
      "short\n",
      "long\n",
      "short\n",
      "long\n",
      "long\n",
      "long\n",
      "short\n",
      "long\n",
      "short\n",
      "long\n",
      "short\n",
      "long\n",
      "long\n",
      "short\n",
      "long\n",
      "short\n",
      "long\n",
      "long\n",
      "long\n",
      "short\n",
      "long\n",
      "long\n",
      "short\n",
      "long\n",
      "short\n",
      "long\n",
      "short\n",
      "long\n",
      "short\n",
      "long\n",
      "long\n",
      "short\n",
      "long\n",
      "long\n",
      "short\n",
      "long\n",
      "short\n",
      "long\n",
      "short\n",
      "long\n",
      "short\n",
      "long\n",
      "short\n",
      "long\n",
      "short\n",
      "long\n",
      "short\n",
      "long\n",
      "long\n",
      "short\n",
      "long\n",
      "long\n",
      "long\n",
      "short\n",
      "long\n",
      "short\n",
      "long\n",
      "short\n",
      "long\n",
      "long\n",
      "short\n",
      "long\n",
      "long\n",
      "long\n",
      "long\n",
      "long\n",
      "short\n",
      "long\n",
      "short\n",
      "long\n",
      "short\n",
      "long\n",
      "long\n",
      "long\n",
      "short\n",
      "long\n",
      "short\n",
      "long\n",
      "short\n",
      "short\n",
      "long\n",
      "long\n",
      "long\n",
      "long\n",
      "long\n",
      "short\n",
      "long\n",
      "long\n",
      "short\n",
      "long\n",
      "long\n",
      "long\n",
      "short\n",
      "long\n",
      "long\n",
      "short\n",
      "long\n",
      "short\n",
      "long\n",
      "short\n",
      "long\n",
      "long\n",
      "long\n",
      "long\n",
      "long\n",
      "long\n",
      "short\n",
      "long\n",
      "short\n",
      "long\n",
      "long\n",
      "short\n",
      "long\n",
      "short\n",
      "long\n",
      "long\n",
      "short\n",
      "long\n",
      "short\n",
      "long\n",
      "short\n",
      "long\n",
      "long\n",
      "long\n",
      "short\n",
      "long\n",
      "short\n",
      "long\n",
      "short\n",
      "long\n",
      "short\n",
      "long\n",
      "long\n",
      "long\n",
      "long\n",
      "long\n",
      "long\n",
      "long\n",
      "long\n",
      "short\n",
      "long\n",
      "short\n",
      "long\n",
      "short\n",
      "short\n",
      "long\n",
      "long\n",
      "short\n",
      "long\n",
      "short\n",
      "long\n",
      "short\n",
      "long\n",
      "long\n",
      "short\n",
      "long\n",
      "short\n",
      "long\n",
      "short\n",
      "long\n",
      "long\n",
      "long\n",
      "long\n",
      "long\n",
      "long\n",
      "long\n",
      "short\n",
      "long\n",
      "long\n",
      "long\n",
      "short\n",
      "long\n",
      "short\n",
      "short\n",
      "long\n",
      "long\n",
      "short\n",
      "long\n",
      "short\n",
      "long\n",
      "Eruption duration completed!\n"
     ]
    }
   ],
   "source": [
    "# Writing an \"If-else\" statement for Eruption duration\n",
    "for i in df['eruptions']: # A For loop that iterates over the values in the df[‘eruptions’] column of the DataFrame. \n",
    "    if (i < 3): # If-else function that checks if each value in the column is less than 3, \n",
    "        print(\"short\")  # Prints 'short' when the condition is true.\n",
    "    else:\n",
    "        print(\"long\") # Prints 'long' when the condition is false.\n",
    "print(\"Eruption duration completed!\") # A print statement to indicate that the loop is terminated."
   ]
  },
  {
   "cell_type": "code",
   "execution_count": null,
   "id": "13eaa641",
   "metadata": {},
   "outputs": [],
   "source": []
  }
 ],
 "metadata": {
  "kernelspec": {
   "display_name": "Python 3 (ipykernel)",
   "language": "python",
   "name": "python3"
  },
  "language_info": {
   "codemirror_mode": {
    "name": "ipython",
    "version": 3
   },
   "file_extension": ".py",
   "mimetype": "text/x-python",
   "name": "python",
   "nbconvert_exporter": "python",
   "pygments_lexer": "ipython3",
   "version": "3.10.9"
  }
 },
 "nbformat": 4,
 "nbformat_minor": 5
}
