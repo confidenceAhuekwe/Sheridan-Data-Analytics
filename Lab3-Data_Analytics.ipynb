{
 "cells": [
  {
   "cell_type": "markdown",
   "id": "4a5695c7",
   "metadata": {},
   "source": [
    "# Data Analytics - Lab 3\n",
    "Student Name (s): Confidence Ahuekwe Student Number: 991714953 Date 27th-Sept.-2023."
   ]
  },
  {
   "cell_type": "code",
   "execution_count": 2,
   "id": "a7186e00",
   "metadata": {},
   "outputs": [],
   "source": [
    "\n",
    "# Import NumPy for numerical computing\n",
    "import numpy as np\n",
    "\n",
    "# Import Pandas for data manipulation\n",
    "import pandas as pd\n",
    "\n",
    "# Import SciPy for scientific computing\n",
    "import scipy as sp\n",
    "\n",
    "# Import matplotlib for plotting\n",
    "import matplotlib.pyplot as plt\n",
    "\n",
    "# Import seaborn\n",
    "import seaborn as sns\n",
    "\n",
    "from scipy.stats import shapiro\n",
    "\n",
    "# Import csv for reading comma-separated values files\n",
    "import csv\n"
   ]
  },
  {
   "cell_type": "markdown",
   "id": "a14766e9",
   "metadata": {},
   "source": [
    "## Question No.1:"
   ]
  },
  {
   "cell_type": "code",
   "execution_count": 3,
   "id": "c8eb57b2",
   "metadata": {},
   "outputs": [
    {
     "data": {
      "text/html": [
       "<div>\n",
       "<style scoped>\n",
       "    .dataframe tbody tr th:only-of-type {\n",
       "        vertical-align: middle;\n",
       "    }\n",
       "\n",
       "    .dataframe tbody tr th {\n",
       "        vertical-align: top;\n",
       "    }\n",
       "\n",
       "    .dataframe thead th {\n",
       "        text-align: right;\n",
       "    }\n",
       "</style>\n",
       "<table border=\"1\" class=\"dataframe\">\n",
       "  <thead>\n",
       "    <tr style=\"text-align: right;\">\n",
       "      <th></th>\n",
       "      <th>Calories (kcal)</th>\n",
       "      <th>Fat (g)</th>\n",
       "      <th>Saturated Fat (g)</th>\n",
       "      <th>Trans Fat (g)</th>\n",
       "      <th>Cholesterol (mg)</th>\n",
       "      <th>Sodium (mg)</th>\n",
       "      <th>Carbohydrates (g)</th>\n",
       "      <th>Fibre (g)</th>\n",
       "      <th>Sugars (g)</th>\n",
       "      <th>Protein (g)</th>\n",
       "    </tr>\n",
       "  </thead>\n",
       "  <tbody>\n",
       "    <tr>\n",
       "      <th>count</th>\n",
       "      <td>37.000000</td>\n",
       "      <td>37.000000</td>\n",
       "      <td>37.000000</td>\n",
       "      <td>37.000000</td>\n",
       "      <td>37.000000</td>\n",
       "      <td>37.000000</td>\n",
       "      <td>37.000000</td>\n",
       "      <td>37.000000</td>\n",
       "      <td>37.000000</td>\n",
       "      <td>37.000000</td>\n",
       "    </tr>\n",
       "    <tr>\n",
       "      <th>mean</th>\n",
       "      <td>294.864865</td>\n",
       "      <td>14.675676</td>\n",
       "      <td>7.270270</td>\n",
       "      <td>0.129730</td>\n",
       "      <td>10.270270</td>\n",
       "      <td>207.837838</td>\n",
       "      <td>36.729730</td>\n",
       "      <td>1.000000</td>\n",
       "      <td>17.216216</td>\n",
       "      <td>3.567568</td>\n",
       "    </tr>\n",
       "    <tr>\n",
       "      <th>std</th>\n",
       "      <td>56.500817</td>\n",
       "      <td>6.009502</td>\n",
       "      <td>3.309487</td>\n",
       "      <td>0.046337</td>\n",
       "      <td>13.014199</td>\n",
       "      <td>35.600806</td>\n",
       "      <td>7.116681</td>\n",
       "      <td>0.408248</td>\n",
       "      <td>5.822061</td>\n",
       "      <td>0.867325</td>\n",
       "    </tr>\n",
       "    <tr>\n",
       "      <th>min</th>\n",
       "      <td>200.000000</td>\n",
       "      <td>7.000000</td>\n",
       "      <td>3.500000</td>\n",
       "      <td>0.100000</td>\n",
       "      <td>0.000000</td>\n",
       "      <td>120.000000</td>\n",
       "      <td>24.000000</td>\n",
       "      <td>0.000000</td>\n",
       "      <td>5.000000</td>\n",
       "      <td>2.000000</td>\n",
       "    </tr>\n",
       "    <tr>\n",
       "      <th>25%</th>\n",
       "      <td>250.000000</td>\n",
       "      <td>8.000000</td>\n",
       "      <td>3.500000</td>\n",
       "      <td>0.100000</td>\n",
       "      <td>0.000000</td>\n",
       "      <td>190.000000</td>\n",
       "      <td>33.000000</td>\n",
       "      <td>1.000000</td>\n",
       "      <td>13.000000</td>\n",
       "      <td>3.000000</td>\n",
       "    </tr>\n",
       "    <tr>\n",
       "      <th>50%</th>\n",
       "      <td>300.000000</td>\n",
       "      <td>16.000000</td>\n",
       "      <td>8.000000</td>\n",
       "      <td>0.100000</td>\n",
       "      <td>5.000000</td>\n",
       "      <td>210.000000</td>\n",
       "      <td>37.000000</td>\n",
       "      <td>1.000000</td>\n",
       "      <td>17.000000</td>\n",
       "      <td>4.000000</td>\n",
       "    </tr>\n",
       "    <tr>\n",
       "      <th>75%</th>\n",
       "      <td>330.000000</td>\n",
       "      <td>21.000000</td>\n",
       "      <td>10.000000</td>\n",
       "      <td>0.200000</td>\n",
       "      <td>15.000000</td>\n",
       "      <td>230.000000</td>\n",
       "      <td>40.000000</td>\n",
       "      <td>1.000000</td>\n",
       "      <td>20.000000</td>\n",
       "      <td>4.000000</td>\n",
       "    </tr>\n",
       "    <tr>\n",
       "      <th>max</th>\n",
       "      <td>480.000000</td>\n",
       "      <td>24.000000</td>\n",
       "      <td>14.000000</td>\n",
       "      <td>0.200000</td>\n",
       "      <td>40.000000</td>\n",
       "      <td>280.000000</td>\n",
       "      <td>57.000000</td>\n",
       "      <td>2.000000</td>\n",
       "      <td>32.000000</td>\n",
       "      <td>6.000000</td>\n",
       "    </tr>\n",
       "  </tbody>\n",
       "</table>\n",
       "</div>"
      ],
      "text/plain": [
       "       Calories (kcal)    Fat (g)  Saturated Fat (g)  Trans Fat (g)  \\\n",
       "count        37.000000  37.000000          37.000000      37.000000   \n",
       "mean        294.864865  14.675676           7.270270       0.129730   \n",
       "std          56.500817   6.009502           3.309487       0.046337   \n",
       "min         200.000000   7.000000           3.500000       0.100000   \n",
       "25%         250.000000   8.000000           3.500000       0.100000   \n",
       "50%         300.000000  16.000000           8.000000       0.100000   \n",
       "75%         330.000000  21.000000          10.000000       0.200000   \n",
       "max         480.000000  24.000000          14.000000       0.200000   \n",
       "\n",
       "       Cholesterol (mg)  Sodium (mg)  Carbohydrates (g)  Fibre (g)  \\\n",
       "count         37.000000    37.000000          37.000000  37.000000   \n",
       "mean          10.270270   207.837838          36.729730   1.000000   \n",
       "std           13.014199    35.600806           7.116681   0.408248   \n",
       "min            0.000000   120.000000          24.000000   0.000000   \n",
       "25%            0.000000   190.000000          33.000000   1.000000   \n",
       "50%            5.000000   210.000000          37.000000   1.000000   \n",
       "75%           15.000000   230.000000          40.000000   1.000000   \n",
       "max           40.000000   280.000000          57.000000   2.000000   \n",
       "\n",
       "       Sugars (g)  Protein (g)  \n",
       "count   37.000000    37.000000  \n",
       "mean    17.216216     3.567568  \n",
       "std      5.822061     0.867325  \n",
       "min      5.000000     2.000000  \n",
       "25%     13.000000     3.000000  \n",
       "50%     17.000000     4.000000  \n",
       "75%     20.000000     4.000000  \n",
       "max     32.000000     6.000000  "
      ]
     },
     "execution_count": 3,
     "metadata": {},
     "output_type": "execute_result"
    }
   ],
   "source": [
    " # load the provided data set and obtain summary statistics of the data\n",
    "    \n",
    "TimHortons_df = pd.read_csv(\"TimHortonData.csv\")\n",
    "TimHortons_df.describe()"
   ]
  },
  {
   "cell_type": "markdown",
   "id": "f5e7629b",
   "metadata": {},
   "source": [
    "## Question No.2:"
   ]
  },
  {
   "cell_type": "code",
   "execution_count": 4,
   "id": "e1b4fe0a",
   "metadata": {},
   "outputs": [
    {
     "data": {
      "text/plain": [
       "(37, 12)"
      ]
     },
     "execution_count": 4,
     "metadata": {},
     "output_type": "execute_result"
    }
   ],
   "source": [
    "TimHortons_df.shape"
   ]
  },
  {
   "cell_type": "code",
   "execution_count": 5,
   "id": "00d54386",
   "metadata": {},
   "outputs": [
    {
     "data": {
      "text/plain": [
       "Menu Item             object\n",
       "Type of Donut         object\n",
       "Calories (kcal)        int64\n",
       "Fat (g)                int64\n",
       "Saturated Fat (g)    float64\n",
       "Trans Fat (g)        float64\n",
       "Cholesterol (mg)       int64\n",
       "Sodium (mg)            int64\n",
       "Carbohydrates (g)      int64\n",
       "Fibre (g)              int64\n",
       "Sugars (g)             int64\n",
       "Protein (g)            int64\n",
       "dtype: object"
      ]
     },
     "execution_count": 5,
     "metadata": {},
     "output_type": "execute_result"
    }
   ],
   "source": [
    "TimHortons_df.dtypes"
   ]
  },
  {
   "cell_type": "code",
   "execution_count": 6,
   "id": "39a0ef1b",
   "metadata": {},
   "outputs": [
    {
     "name": "stdout",
     "output_type": "stream",
     "text": [
      "Calories (kcal)      300.0\n",
      "Fat (g)               16.0\n",
      "Saturated Fat (g)      8.0\n",
      "Trans Fat (g)          0.1\n",
      "Cholesterol (mg)       5.0\n",
      "Sodium (mg)          210.0\n",
      "Carbohydrates (g)     37.0\n",
      "Fibre (g)              1.0\n",
      "Sugars (g)            17.0\n",
      "Protein (g)            4.0\n",
      "dtype: float64\n"
     ]
    }
   ],
   "source": [
    "print(TimHortons_df.median(numeric_only=True))"
   ]
  },
  {
   "cell_type": "code",
   "execution_count": 7,
   "id": "6ade7950",
   "metadata": {},
   "outputs": [
    {
     "data": {
      "text/plain": [
       "Calories (kcal)      294.864865\n",
       "Fat (g)               14.675676\n",
       "Saturated Fat (g)      7.270270\n",
       "Trans Fat (g)          0.129730\n",
       "Cholesterol (mg)      10.270270\n",
       "Sodium (mg)          207.837838\n",
       "Carbohydrates (g)     36.729730\n",
       "Fibre (g)              1.000000\n",
       "Sugars (g)            17.216216\n",
       "Protein (g)            3.567568\n",
       "dtype: float64"
      ]
     },
     "execution_count": 7,
     "metadata": {},
     "output_type": "execute_result"
    }
   ],
   "source": [
    "TimHortons_df.mean(numeric_only=True)"
   ]
  },
  {
   "cell_type": "code",
   "execution_count": 12,
   "id": "2ee04d00",
   "metadata": {},
   "outputs": [
    {
     "name": "stdout",
     "output_type": "stream",
     "text": [
      "                   Menu Item Type of Donut   Calories (kcal)  Fat (g)  \\\n",
      "2         Boston Cream Donut         Yeast               240        8   \n",
      "3       Canadian Maple Donut         Yeast               250        8   \n",
      "5        Chocolate Dip Donut         Yeast               220        8   \n",
      "14           Honey Dip Donut         Yeast               250        7   \n",
      "15           Long John Donut         Yeast               240        9   \n",
      "17           Maple Dip Donut         Yeast               220        7   \n",
      "19         Maple Swirl Donut           Cake              250        8   \n",
      "25    Raspberry Filled Donut         Filled              230        8   \n",
      "29      Strawberry Dip Donut         Filled              220        7   \n",
      "30   Strawberry Filled Donut         Filled              240        8   \n",
      "31  Strawberry Vanilla Donut         Filled              270        8   \n",
      "32          Sugar Loop Donut         Yeast               200        7   \n",
      "34         Vanilla Dip Donut           Cake              250        7   \n",
      "\n",
      "    Saturated Fat (g)  Trans Fat (g)  Cholesterol (mg)  Sodium (mg)  \\\n",
      "2                 3.5            0.1                 0          240   \n",
      "3                 3.5            0.1                 0          240   \n",
      "5                 3.5            0.1                 0          190   \n",
      "14                3.5            0.1                 0          190   \n",
      "15                4.0            0.1                 0          210   \n",
      "17                3.5            0.1                 0          190   \n",
      "19                3.5            0.1                 0          240   \n",
      "25                3.5            0.1                 0          210   \n",
      "29                3.5            0.1                 0          190   \n",
      "30                3.5            0.1                 0          210   \n",
      "31                3.5            0.1                 0          210   \n",
      "32                3.5            0.1                 0          190   \n",
      "34                3.5            0.1                 0          190   \n",
      "\n",
      "    Carbohydrates (g)  Fibre (g)  Sugars (g)  Protein (g)  \n",
      "2                  38          1          16            4  \n",
      "3                  38          1          16            4  \n",
      "5                  33          1          12            4  \n",
      "14                 41          1          21            4  \n",
      "15                 36          1          13            4  \n",
      "17                 33          1          12            4  \n",
      "19                 39          1          17            4  \n",
      "25                 37          1          15            4  \n",
      "29                 33          1          12            4  \n",
      "30                 38          1           5            4  \n",
      "31                 49          1          15            4  \n",
      "32                 29          1           8            4  \n",
      "34                 40          1          19            4  \n"
     ]
    }
   ],
   "source": [
    "print(TimHortons_df[TimHortons_df['Fat (g)'] < 10])"
   ]
  },
  {
   "cell_type": "code",
   "execution_count": null,
   "id": "99ab7364",
   "metadata": {},
   "outputs": [],
   "source": []
  },
  {
   "cell_type": "code",
   "execution_count": 114,
   "id": "0c7550d9",
   "metadata": {},
   "outputs": [
    {
     "name": "stdout",
     "output_type": "stream",
     "text": [
      "Index(['Menu Item', 'Type of Donut ', 'Calories (kcal)', 'Fat (g)',\n",
      "       'Saturated Fat (g)', 'Trans Fat (g)', 'Cholesterol (mg)', 'Sodium (mg)',\n",
      "       'Carbohydrates (g)', 'Fibre (g)', 'Sugars (g)', 'Protein (g)'],\n",
      "      dtype='object')\n"
     ]
    }
   ],
   "source": [
    "# View the name of column headers\n",
    "\n",
    "print(TimHortons_df.columns)"
   ]
  },
  {
   "cell_type": "markdown",
   "id": "000591e9",
   "metadata": {},
   "source": [
    "## Question No.3:"
   ]
  },
  {
   "cell_type": "code",
   "execution_count": 115,
   "id": "d21c394e",
   "metadata": {},
   "outputs": [
    {
     "name": "stdout",
     "output_type": "stream",
     "text": [
      "0     330\n",
      "1     340\n",
      "2     240\n",
      "3     250\n",
      "4     360\n",
      "5     220\n",
      "6     310\n",
      "7     330\n",
      "8     320\n",
      "9     290\n",
      "10    360\n",
      "11    260\n",
      "12    310\n",
      "13    320\n",
      "14    250\n",
      "15    240\n",
      "16    360\n",
      "17    220\n",
      "18    310\n",
      "19    250\n",
      "20    310\n",
      "21    330\n",
      "22    280\n",
      "23    290\n",
      "24    300\n",
      "25    230\n",
      "26    340\n",
      "27    280\n",
      "28    300\n",
      "29    220\n",
      "30    240\n",
      "31    270\n",
      "32    200\n",
      "33    360\n",
      "34    250\n",
      "35    360\n",
      "36    480\n",
      "Name: Calories (kcal), dtype: int64\n",
      "32    200\n",
      "17    220\n",
      "29    220\n",
      "5     220\n",
      "25    230\n",
      "2     240\n",
      "15    240\n",
      "30    240\n",
      "14    250\n",
      "19    250\n",
      "3     250\n",
      "34    250\n",
      "11    260\n",
      "31    270\n",
      "22    280\n",
      "27    280\n",
      "23    290\n",
      "9     290\n",
      "24    300\n",
      "28    300\n",
      "18    310\n",
      "6     310\n",
      "20    310\n",
      "12    310\n",
      "13    320\n",
      "8     320\n",
      "0     330\n",
      "21    330\n",
      "7     330\n",
      "1     340\n",
      "26    340\n",
      "35    360\n",
      "16    360\n",
      "10    360\n",
      "4     360\n",
      "33    360\n",
      "36    480\n",
      "Name: Calories (kcal), dtype: int64\n",
      "Calories minimum and maximum values: \n",
      "200 480\n",
      "Statistics summary for Calories: \n",
      " count     37.000000\n",
      "mean     294.864865\n",
      "std       56.500817\n",
      "min      200.000000\n",
      "25%      250.000000\n",
      "50%      300.000000\n",
      "75%      330.000000\n",
      "max      480.000000\n",
      "Name: Calories (kcal), dtype: float64\n"
     ]
    }
   ],
   "source": [
    "# Print the Calories column\n",
    "print(TimHortons_df['Calories (kcal)'])\n",
    "\n",
    "# Sort the Calories column\n",
    "print(TimHortons_df['Calories (kcal)'].sort_values())\n",
    "\n",
    "# Find the range (min and max) of the Calories column\n",
    "print(\"Calories minimum and maximum values: \")\n",
    "print(TimHortons_df['Calories (kcal)'].min(), TimHortons_df['Calories (kcal)'].max())\n",
    "\n",
    "# Obtain the 5 number summary of the Calories column\n",
    "Calories_summary = TimHortons_df['Calories (kcal)'].describe()\n",
    "print(\"Statistics summary for Calories: \\n\", Calories_summary)"
   ]
  },
  {
   "cell_type": "markdown",
   "id": "fa63ac8a",
   "metadata": {},
   "source": [
    "## Question N.4:"
   ]
  },
  {
   "cell_type": "code",
   "execution_count": 116,
   "id": "6ae316dc",
   "metadata": {},
   "outputs": [
    {
     "data": {
      "image/png": "[encoded data removed]",
      "text/plain": [
       "<Figure size 1000x500 with 1 Axes>"
      ]
     },
     "metadata": {},
     "output_type": "display_data"
    }
   ],
   "source": [
    "# Plot a histogram\n",
    "TimHortons_df['Calories (kcal)'].hist(bins=20, figsize=(10,5), color=\"green\", edgecolor=\"white\")\n",
    "plt.title('Histogram of Calories (kcal)')\n",
    "plt.xlabel('Calories (kcal)')\n",
    "plt.ylabel('Frequency')\n",
    "\n",
    "plt.show()"
   ]
  },
  {
   "cell_type": "code",
   "execution_count": 117,
   "id": "91533125",
   "metadata": {},
   "outputs": [
    {
     "data": {
      "image/png": "[encoded data removed]",
      "text/plain": [
       "<Figure size 1000x500 with 1 Axes>"
      ]
     },
     "metadata": {},
     "output_type": "display_data"
    }
   ],
   "source": [
    "# Plot a Boxplot of the Calories column data\n",
    "plt.figure(figsize=(10,5))\n",
    "sns.boxplot(x=TimHortons_df['Calories (kcal)'], color='lightgreen') # Seaborn function that creates the boxplot\n",
    "plt.title('Boxplot of Calories (kcal)')\n",
    "plt.xlabel('Calories (kcal)')\n",
    "plt.grid(axis='x', linestyle='--', alpha=1)\n",
    "\n",
    "plt.show()"
   ]
  },
  {
   "cell_type": "markdown",
   "id": "4c7691f7",
   "metadata": {},
   "source": [
    "Answers to Question 4:\n",
    "\n",
    " a) The typical calories for Tim Hortons donuts ranges from 250 kcal to about 330 kcal.\n",
    " \n",
    " b) From the histogram visualized above we can deduce that the shape of the distribution is skewed to the right.\n",
    " \n",
    " c) Fifty percent (50%) of donuts had 300 calories or more."
   ]
  },
  {
   "cell_type": "markdown",
   "id": "e0c7753d",
   "metadata": {},
   "source": [
    "## Question No.5:"
   ]
  },
  {
   "cell_type": "code",
   "execution_count": 118,
   "id": "1c0d5c9b",
   "metadata": {},
   "outputs": [
    {
     "name": "stdout",
     "output_type": "stream",
     "text": [
      "0     23\n",
      "1     25\n",
      "2     16\n",
      "3     16\n",
      "4     28\n",
      "5     12\n",
      "6     20\n",
      "7     20\n",
      "8     17\n",
      "9     10\n",
      "10    19\n",
      "11    17\n",
      "12    14\n",
      "13    18\n",
      "14    21\n",
      "15    13\n",
      "16    28\n",
      "17    12\n",
      "18    18\n",
      "19    17\n",
      "20    16\n",
      "21    22\n",
      "22     9\n",
      "23    12\n",
      "24    16\n",
      "25    15\n",
      "26    24\n",
      "27    11\n",
      "28    16\n",
      "29    12\n",
      "30     5\n",
      "31    15\n",
      "32     8\n",
      "33    21\n",
      "34    19\n",
      "35    20\n",
      "36    32\n",
      "Name: Sugars (g), dtype: int64\n",
      "30     5\n",
      "32     8\n",
      "22     9\n",
      "9     10\n",
      "27    11\n",
      "23    12\n",
      "17    12\n",
      "5     12\n",
      "29    12\n",
      "15    13\n",
      "12    14\n",
      "31    15\n",
      "25    15\n",
      "20    16\n",
      "28    16\n",
      "24    16\n",
      "2     16\n",
      "3     16\n",
      "11    17\n",
      "19    17\n",
      "8     17\n",
      "18    18\n",
      "13    18\n",
      "34    19\n",
      "10    19\n",
      "35    20\n",
      "6     20\n",
      "7     20\n",
      "33    21\n",
      "14    21\n",
      "21    22\n",
      "0     23\n",
      "26    24\n",
      "1     25\n",
      "16    28\n",
      "4     28\n",
      "36    32\n",
      "Name: Sugars (g), dtype: int64\n",
      "\n",
      " Sugars Minimum and Maximum values: \n",
      " 5 32\n",
      "Statistics summary for Sugar: \n",
      " count    37.000000\n",
      "mean     17.216216\n",
      "std       5.822061\n",
      "min       5.000000\n",
      "25%      13.000000\n",
      "50%      17.000000\n",
      "75%      20.000000\n",
      "max      32.000000\n",
      "Name: Sugars (g), dtype: float64\n"
     ]
    }
   ],
   "source": [
    "# Print the Sugars column\n",
    "print(TimHortons_df['Sugars (g)'])\n",
    "\n",
    "# Sort the Sugars column\n",
    "print(TimHortons_df['Sugars (g)'].sort_values())\n",
    "\n",
    "# Find the range (min and max) of the Sugars column\n",
    "print(\"\\n Sugars Minimum and Maximum values: \\n\", TimHortons_df['Sugars (g)'].min(), TimHortons_df['Sugars (g)'].max())\n",
    "\n",
    "# print the 5 number summary\n",
    "Sugar_summary = TimHortons_df['Sugars (g)'].describe()\n",
    "print(\"Statistics summary for Sugar: \\n\", Sugar_summary)"
   ]
  },
  {
   "cell_type": "code",
   "execution_count": 119,
   "id": "161111d7",
   "metadata": {},
   "outputs": [
    {
     "data": {
      "image/png": "[encoded data removed]",
      "text/plain": [
       "<Figure size 1000x500 with 1 Axes>"
      ]
     },
     "metadata": {},
     "output_type": "display_data"
    }
   ],
   "source": [
    "# Plot a histogram of the Sugars column data\n",
    "\n",
    "TimHortons_df['Sugars (g)'].hist(bins=20, figsize=(10,5), color=\"gold\", edgecolor=\"black\")\n",
    "plt.title('Histogram of Sugars (g)') # Adds a title to the histogram\n",
    "plt.xlabel('Sugars (g)') # labels the x-axis\n",
    "plt.ylabel('Frequency') # labels the y-axis\n",
    "\n",
    "plt.show()"
   ]
  },
  {
   "cell_type": "markdown",
   "id": "a8aefef8",
   "metadata": {},
   "source": [
    "Note: From the histogram above we deduce that it has a normal distribution and the chart is symmetric. With a median of 17.0, mean of 17.2, and minimum value is 5 and maximum value is 32. "
   ]
  },
  {
   "cell_type": "code",
   "execution_count": 120,
   "id": "159bc20b",
   "metadata": {},
   "outputs": [
    {
     "data": {
      "image/png": "[encoded data removed]",
      "text/plain": [
       "<Figure size 1000x500 with 1 Axes>"
      ]
     },
     "metadata": {},
     "output_type": "display_data"
    }
   ],
   "source": [
    "# Plotting Boxplot for the Sugars column\n",
    "plt.figure(figsize=(10,5))\n",
    "sns.boxplot(x=TimHortons_df['Sugars (g)'], color='yellow') # Seaborn function that creates the boxplot\n",
    "plt.title('Boxplot of Sugars (g)') # Adds a title to the boxplot\n",
    "plt.xlabel('Sugars (g)')\n",
    "plt.grid(axis='x', linestyle='--', alpha=1) # Makes the grid visible with the specified style as --"
   ]
  },
  {
   "cell_type": "markdown",
   "id": "e0d8ea44",
   "metadata": {},
   "source": [
    "Note: The length of the boxplot represents the Interquartile Range which ranges from about 13g (Q1) to 20g (Q3). This shows that majority of the data points fall within thisn range.\n",
    "The whiskers extend from the box to 1.5 times the IQR or to the minimum or maximum value, whichever is closer and the dot outside the whiskers are outliers. The line inside the boxplot represents the median."
   ]
  },
  {
   "cell_type": "markdown",
   "id": "9f0ff6c2",
   "metadata": {},
   "source": [
    "## Question No.6:"
   ]
  },
  {
   "cell_type": "code",
   "execution_count": 121,
   "id": "bafcafd6",
   "metadata": {},
   "outputs": [
    {
     "name": "stdout",
     "output_type": "stream",
     "text": [
      "                count        mean        std    min    25%    50%    75%  \\\n",
      "Type of Donut                                                              \n",
      "Cake              8.0  290.000000  28.784917  250.0  272.5  295.0  310.0   \n",
      "Filled           11.0  299.090909  74.492220  220.0  250.0  280.0  325.0   \n",
      "Yeast            18.0  294.444444  55.964508  200.0  242.5  315.0  337.5   \n",
      "\n",
      "                  max  \n",
      "Type of Donut          \n",
      "Cake            330.0  \n",
      "Filled          480.0  \n",
      "Yeast           360.0  \n"
     ]
    }
   ],
   "source": [
    "# Statistical summary of \"Type of Donut\" data\n",
    "\n",
    "Donuts_Type = TimHortons_df.groupby('Type of Donut ')\n",
    "\n",
    "summary = Donuts_Type['Calories (kcal)'].describe()\n",
    "print(summary)"
   ]
  },
  {
   "cell_type": "code",
   "execution_count": 122,
   "id": "efd55785",
   "metadata": {},
   "outputs": [
    {
     "data": {
      "image/png": "[encoded data removed]",
      "text/plain": [
       "<Figure size 1000x500 with 1 Axes>"
      ]
     },
     "metadata": {},
     "output_type": "display_data"
    }
   ],
   "source": [
    "# Plotting a side-by-side Boxplot of the Calories column data by Type of Donut\n",
    "plt.figure(figsize=(10,5)) # Matplotlib function that Specifies the width and height of the figure\n",
    "\n",
    "sns.boxplot(x='Type of Donut ', y=TimHortons_df['Calories (kcal)'], data=TimHortons_df) # Seaborn function that creates the boxplot\n",
    "plt.title('Side-by-side boxplot of Calories by the type of donuts') # Adds a Title to the boxplot\n",
    "\n",
    "\n",
    "plt.show()"
   ]
  },
  {
   "cell_type": "code",
   "execution_count": 123,
   "id": "960efb2f",
   "metadata": {},
   "outputs": [
    {
     "data": {
      "image/png": "[encoded data removed]",
      "text/plain": [
       "<Figure size 640x480 with 1 Axes>"
      ]
     },
     "metadata": {},
     "output_type": "display_data"
    }
   ],
   "source": [
    "sns.boxplot(x='Type of Donut ', y='Calories (kcal)', data=TimHortons_df, showfliers=False, palette='Accent')\n",
    "plt.title('Boxplot of Calories by the type of donuts (No Outliers)')\n",
    "\n",
    "\n",
    "plt.show()"
   ]
  },
  {
   "cell_type": "markdown",
   "id": "72036a4e",
   "metadata": {},
   "source": [
    "Note: The Seaborn function sns.boxplot takes several arguments to customize the plot, such as x, y, data, showfliers, and palette.\n",
    "\n",
    "x='Type of Donut ' is the argument that specifies the column name in the DataFrame that contains the categorical variable to be plotted on the x-axis. In this case, it is 'Type of Donut ', which indicates the different types of donuts available at Tim Hortons.\n",
    "\n",
    "y='Calories (kcal)' is the argument that specifies the column name in the DataFrame that contains the numerical variable to be plotted on the y-axis. In this case, it is ‘Calories (kcal)’, which indicates the amount of calories in each donut.\n",
    "\n",
    "data=TimHortons_df is the argument that specifies the DataFrame that contains the data to be plotted. In this case, it is TimHortons_df, which is the name I used for the DataFrame.\n",
    "\n",
    "showfliers=False is the argument that specifies whether to show outliers in the boxplot or not. Outliers are values that are far away from the rest of the data. By setting this argument to False, the code will not show any outliers in the boxplot."
   ]
  },
  {
   "cell_type": "markdown",
   "id": "869dc6b6",
   "metadata": {},
   "source": [
    "## Question No.7:"
   ]
  },
  {
   "cell_type": "markdown",
   "id": "50b91d90",
   "metadata": {},
   "source": [
    "The boxplot shows the distribution of calories for each type of donut. The box represents the interquartile range (IQR), which is the middle 50% of the data. The line inside the box represents the median, which is the middle value of the data. The whiskers extend from the box to 1.5 times the IQR or to the minimum or maximum value, whichever is closer. The dots outside the whiskers are outliers, but they are not shown in this plot because showfliers is set to False.\n",
    "\n",
    "The boxplot can help us compare and analyze the calories of different types of donuts. For example, we can see that Yeast donuts have higher calories than Filled or Cake donuts on average. "
   ]
  },
  {
   "cell_type": "markdown",
   "id": "e4434302",
   "metadata": {},
   "source": [
    "## Yeast Donuts:"
   ]
  },
  {
   "cell_type": "markdown",
   "id": "2a7e470b",
   "metadata": {},
   "source": [
    "Critically observing the data visualized in the boxplot above we can deduce that Yeast donut's Interquartile range (IQR) ranges from approximately 240 kcal to approximately 340 kcal which represents the Q1 and Q3 respectively. With the median being a little below 320 kcal and the mean 294.4 kcal."
   ]
  },
  {
   "cell_type": "markdown",
   "id": "840d5e8a",
   "metadata": {},
   "source": [
    "## Filled Donuts:"
   ]
  },
  {
   "cell_type": "markdown",
   "id": "6a1febc6",
   "metadata": {},
   "source": [
    "From the same side-by-side boxplot above, it is empirically known that the IQR for Filled donuts ranges from 250 kcal (as Q1) to 320 kcal (as Q3), with a median of 280 kcal and a mean of 299 kcal."
   ]
  },
  {
   "cell_type": "markdown",
   "id": "3836278a",
   "metadata": {},
   "source": [
    "## Cake Donuts:"
   ]
  },
  {
   "cell_type": "markdown",
   "id": "9a779bf8",
   "metadata": {},
   "source": [
    "The boxplot shows that the Cake donuts have the least calories with a Q1 of about 270 kcal and Q3 of about 310 kcal which marks the IQR."
   ]
  },
  {
   "cell_type": "code",
   "execution_count": null,
   "id": "186de970",
   "metadata": {},
   "outputs": [],
   "source": []
  }
 ],
 "metadata": {
  "kernelspec": {
   "display_name": "Python 3 (ipykernel)",
   "language": "python",
   "name": "python3"
  },
  "language_info": {
   "codemirror_mode": {
    "name": "ipython",
    "version": 3
   },
   "file_extension": ".py",
   "mimetype": "text/x-python",
   "name": "python",
   "nbconvert_exporter": "python",
   "pygments_lexer": "ipython3",
   "version": "3.10.9"
  }
 },
 "nbformat": 4,
 "nbformat_minor": 5
}
