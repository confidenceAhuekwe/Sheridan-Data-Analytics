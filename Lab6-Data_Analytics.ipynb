{
 "cells": [
  {
   "cell_type": "markdown",
   "id": "d5f0138f",
   "metadata": {},
   "source": [
    "# Data Analytics - Lab 6\n",
    "Student Name (s): Confidence Ahuekwe Student Number: 991714953 Date 16th-Nov.-2023."
   ]
  },
  {
   "cell_type": "code",
   "execution_count": 51,
   "id": "a4938345",
   "metadata": {},
   "outputs": [],
   "source": [
    "\n",
    "# Import NumPy for numerical computing\n",
    "import numpy as np\n",
    "\n",
    "# Import Pandas for data manipulation\n",
    "import pandas as pd\n",
    "\n",
    "# Import SciPy for scientific computing\n",
    "import scipy as sp\n",
    "\n",
    "# Import matplotlib for plotting\n",
    "import matplotlib.pyplot as plt\n",
    "\n",
    "# Import seaborn\n",
    "import seaborn as sns\n",
    "sns.set_style(\"darkgrid\")\n",
    "\n",
    "from scipy.stats import shapiro\n",
    "\n",
    "# Import csv for reading comma-separated values files\n",
    "import csv\n"
   ]
  },
  {
   "cell_type": "code",
   "execution_count": 52,
   "id": "0ab7a59e",
   "metadata": {},
   "outputs": [
    {
     "data": {
      "text/html": [
       "<div>\n",
       "<style scoped>\n",
       "    .dataframe tbody tr th:only-of-type {\n",
       "        vertical-align: middle;\n",
       "    }\n",
       "\n",
       "    .dataframe tbody tr th {\n",
       "        vertical-align: top;\n",
       "    }\n",
       "\n",
       "    .dataframe thead th {\n",
       "        text-align: right;\n",
       "    }\n",
       "</style>\n",
       "<table border=\"1\" class=\"dataframe\">\n",
       "  <thead>\n",
       "    <tr style=\"text-align: right;\">\n",
       "      <th></th>\n",
       "      <th>User ID</th>\n",
       "      <th>Gender</th>\n",
       "      <th>Age</th>\n",
       "      <th>AnnualSalary</th>\n",
       "      <th>Purchased</th>\n",
       "    </tr>\n",
       "  </thead>\n",
       "  <tbody>\n",
       "    <tr>\n",
       "      <th>0</th>\n",
       "      <td>385</td>\n",
       "      <td>Male</td>\n",
       "      <td>35</td>\n",
       "      <td>20000</td>\n",
       "      <td>0</td>\n",
       "    </tr>\n",
       "    <tr>\n",
       "      <th>1</th>\n",
       "      <td>681</td>\n",
       "      <td>Male</td>\n",
       "      <td>40</td>\n",
       "      <td>43500</td>\n",
       "      <td>0</td>\n",
       "    </tr>\n",
       "    <tr>\n",
       "      <th>2</th>\n",
       "      <td>353</td>\n",
       "      <td>Male</td>\n",
       "      <td>49</td>\n",
       "      <td>74000</td>\n",
       "      <td>0</td>\n",
       "    </tr>\n",
       "    <tr>\n",
       "      <th>3</th>\n",
       "      <td>895</td>\n",
       "      <td>Male</td>\n",
       "      <td>40</td>\n",
       "      <td>107500</td>\n",
       "      <td>1</td>\n",
       "    </tr>\n",
       "    <tr>\n",
       "      <th>4</th>\n",
       "      <td>661</td>\n",
       "      <td>Male</td>\n",
       "      <td>25</td>\n",
       "      <td>79000</td>\n",
       "      <td>0</td>\n",
       "    </tr>\n",
       "  </tbody>\n",
       "</table>\n",
       "</div>"
      ],
      "text/plain": [
       "   User ID Gender  Age  AnnualSalary  Purchased\n",
       "0      385   Male   35         20000          0\n",
       "1      681   Male   40         43500          0\n",
       "2      353   Male   49         74000          0\n",
       "3      895   Male   40        107500          1\n",
       "4      661   Male   25         79000          0"
      ]
     },
     "execution_count": 52,
     "metadata": {},
     "output_type": "execute_result"
    }
   ],
   "source": [
    "# Load the CSV file into a DataFrame object and show the firstfive rows in a table form \n",
    "cars_df = pd.read_csv(\"cars.csv\") # Pandas function that reads the csv file into a dataframe nmaed cars_df\n",
    "\n",
    "cars_df.head() # Confirms that the dataset has beeen loaded successfully by printing the first five rows of the dataframe"
   ]
  },
  {
   "cell_type": "code",
   "execution_count": 53,
   "id": "3f245c36",
   "metadata": {},
   "outputs": [
    {
     "data": {
      "text/html": [
       "<div>\n",
       "<style scoped>\n",
       "    .dataframe tbody tr th:only-of-type {\n",
       "        vertical-align: middle;\n",
       "    }\n",
       "\n",
       "    .dataframe tbody tr th {\n",
       "        vertical-align: top;\n",
       "    }\n",
       "\n",
       "    .dataframe thead th {\n",
       "        text-align: right;\n",
       "    }\n",
       "</style>\n",
       "<table border=\"1\" class=\"dataframe\">\n",
       "  <thead>\n",
       "    <tr style=\"text-align: right;\">\n",
       "      <th></th>\n",
       "      <th>User ID</th>\n",
       "      <th>Gender</th>\n",
       "      <th>Age</th>\n",
       "      <th>AnnualSalary</th>\n",
       "      <th>Purchased</th>\n",
       "    </tr>\n",
       "  </thead>\n",
       "  <tbody>\n",
       "    <tr>\n",
       "      <th>995</th>\n",
       "      <td>863</td>\n",
       "      <td>Male</td>\n",
       "      <td>38</td>\n",
       "      <td>59000</td>\n",
       "      <td>0</td>\n",
       "    </tr>\n",
       "    <tr>\n",
       "      <th>996</th>\n",
       "      <td>800</td>\n",
       "      <td>Female</td>\n",
       "      <td>47</td>\n",
       "      <td>23500</td>\n",
       "      <td>0</td>\n",
       "    </tr>\n",
       "    <tr>\n",
       "      <th>997</th>\n",
       "      <td>407</td>\n",
       "      <td>Female</td>\n",
       "      <td>28</td>\n",
       "      <td>138500</td>\n",
       "      <td>1</td>\n",
       "    </tr>\n",
       "    <tr>\n",
       "      <th>998</th>\n",
       "      <td>299</td>\n",
       "      <td>Female</td>\n",
       "      <td>48</td>\n",
       "      <td>134000</td>\n",
       "      <td>1</td>\n",
       "    </tr>\n",
       "    <tr>\n",
       "      <th>999</th>\n",
       "      <td>687</td>\n",
       "      <td>Female</td>\n",
       "      <td>44</td>\n",
       "      <td>73500</td>\n",
       "      <td>0</td>\n",
       "    </tr>\n",
       "  </tbody>\n",
       "</table>\n",
       "</div>"
      ],
      "text/plain": [
       "     User ID  Gender  Age  AnnualSalary  Purchased\n",
       "995      863    Male   38         59000          0\n",
       "996      800  Female   47         23500          0\n",
       "997      407  Female   28        138500          1\n",
       "998      299  Female   48        134000          1\n",
       "999      687  Female   44         73500          0"
      ]
     },
     "execution_count": 53,
     "metadata": {},
     "output_type": "execute_result"
    }
   ],
   "source": [
    "# Print the last five rows of the DataFrame\n",
    "cars_df.tail()"
   ]
  },
  {
   "cell_type": "code",
   "execution_count": 54,
   "id": "94c5c270",
   "metadata": {},
   "outputs": [
    {
     "data": {
      "text/plain": [
       "<bound method DataFrame.info of      User ID  Gender  Age  AnnualSalary  Purchased\n",
       "0        385    Male   35         20000          0\n",
       "1        681    Male   40         43500          0\n",
       "2        353    Male   49         74000          0\n",
       "3        895    Male   40        107500          1\n",
       "4        661    Male   25         79000          0\n",
       "..       ...     ...  ...           ...        ...\n",
       "995      863    Male   38         59000          0\n",
       "996      800  Female   47         23500          0\n",
       "997      407  Female   28        138500          1\n",
       "998      299  Female   48        134000          1\n",
       "999      687  Female   44         73500          0\n",
       "\n",
       "[1000 rows x 5 columns]>"
      ]
     },
     "execution_count": 54,
     "metadata": {},
     "output_type": "execute_result"
    }
   ],
   "source": [
    "# Generating information about the dataset\n",
    "cars_df.info"
   ]
  },
  {
   "cell_type": "code",
   "execution_count": 55,
   "id": "7b59bf9f",
   "metadata": {},
   "outputs": [
    {
     "data": {
      "text/plain": [
       "User ID          int64\n",
       "Gender          object\n",
       "Age              int64\n",
       "AnnualSalary     int64\n",
       "Purchased        int64\n",
       "dtype: object"
      ]
     },
     "execution_count": 55,
     "metadata": {},
     "output_type": "execute_result"
    }
   ],
   "source": [
    "# Datatypes of the various columns\n",
    "cars_df.dtypes"
   ]
  },
  {
   "cell_type": "code",
   "execution_count": 56,
   "id": "ce643a3a",
   "metadata": {},
   "outputs": [
    {
     "data": {
      "text/plain": [
       "(1000, 5)"
      ]
     },
     "execution_count": 56,
     "metadata": {},
     "output_type": "execute_result"
    }
   ],
   "source": [
    "# Finding dimensions of the data:\n",
    "cars_df.shape"
   ]
  },
  {
   "cell_type": "code",
   "execution_count": 57,
   "id": "609f2935",
   "metadata": {},
   "outputs": [
    {
     "data": {
      "text/html": [
       "<div>\n",
       "<style scoped>\n",
       "    .dataframe tbody tr th:only-of-type {\n",
       "        vertical-align: middle;\n",
       "    }\n",
       "\n",
       "    .dataframe tbody tr th {\n",
       "        vertical-align: top;\n",
       "    }\n",
       "\n",
       "    .dataframe thead th {\n",
       "        text-align: right;\n",
       "    }\n",
       "</style>\n",
       "<table border=\"1\" class=\"dataframe\">\n",
       "  <thead>\n",
       "    <tr style=\"text-align: right;\">\n",
       "      <th></th>\n",
       "      <th>User ID</th>\n",
       "      <th>Age</th>\n",
       "      <th>AnnualSalary</th>\n",
       "      <th>Purchased</th>\n",
       "    </tr>\n",
       "  </thead>\n",
       "  <tbody>\n",
       "    <tr>\n",
       "      <th>count</th>\n",
       "      <td>1000.000000</td>\n",
       "      <td>1000.000000</td>\n",
       "      <td>1000.000000</td>\n",
       "      <td>1000.000000</td>\n",
       "    </tr>\n",
       "    <tr>\n",
       "      <th>mean</th>\n",
       "      <td>500.500000</td>\n",
       "      <td>40.106000</td>\n",
       "      <td>72689.000000</td>\n",
       "      <td>0.402000</td>\n",
       "    </tr>\n",
       "    <tr>\n",
       "      <th>std</th>\n",
       "      <td>288.819436</td>\n",
       "      <td>10.707073</td>\n",
       "      <td>34488.341867</td>\n",
       "      <td>0.490547</td>\n",
       "    </tr>\n",
       "    <tr>\n",
       "      <th>min</th>\n",
       "      <td>1.000000</td>\n",
       "      <td>18.000000</td>\n",
       "      <td>15000.000000</td>\n",
       "      <td>0.000000</td>\n",
       "    </tr>\n",
       "    <tr>\n",
       "      <th>25%</th>\n",
       "      <td>250.750000</td>\n",
       "      <td>32.000000</td>\n",
       "      <td>46375.000000</td>\n",
       "      <td>0.000000</td>\n",
       "    </tr>\n",
       "    <tr>\n",
       "      <th>50%</th>\n",
       "      <td>500.500000</td>\n",
       "      <td>40.000000</td>\n",
       "      <td>72000.000000</td>\n",
       "      <td>0.000000</td>\n",
       "    </tr>\n",
       "    <tr>\n",
       "      <th>75%</th>\n",
       "      <td>750.250000</td>\n",
       "      <td>48.000000</td>\n",
       "      <td>90000.000000</td>\n",
       "      <td>1.000000</td>\n",
       "    </tr>\n",
       "    <tr>\n",
       "      <th>max</th>\n",
       "      <td>1000.000000</td>\n",
       "      <td>63.000000</td>\n",
       "      <td>152500.000000</td>\n",
       "      <td>1.000000</td>\n",
       "    </tr>\n",
       "  </tbody>\n",
       "</table>\n",
       "</div>"
      ],
      "text/plain": [
       "           User ID          Age   AnnualSalary    Purchased\n",
       "count  1000.000000  1000.000000    1000.000000  1000.000000\n",
       "mean    500.500000    40.106000   72689.000000     0.402000\n",
       "std     288.819436    10.707073   34488.341867     0.490547\n",
       "min       1.000000    18.000000   15000.000000     0.000000\n",
       "25%     250.750000    32.000000   46375.000000     0.000000\n",
       "50%     500.500000    40.000000   72000.000000     0.000000\n",
       "75%     750.250000    48.000000   90000.000000     1.000000\n",
       "max    1000.000000    63.000000  152500.000000     1.000000"
      ]
     },
     "execution_count": 57,
     "metadata": {},
     "output_type": "execute_result"
    }
   ],
   "source": [
    "# Determining the summary statistics of the dataset\n",
    "cars_df.describe()"
   ]
  },
  {
   "cell_type": "code",
   "execution_count": 58,
   "id": "ce9ae90f",
   "metadata": {},
   "outputs": [
    {
     "data": {
      "text/plain": [
       "Index(['User ID', 'Gender', 'Age', 'AnnualSalary', 'Purchased'], dtype='object')"
      ]
     },
     "execution_count": 58,
     "metadata": {},
     "output_type": "execute_result"
    }
   ],
   "source": [
    "# listing the columns for easier copy-and-paste in subsequent references to any of the columns\n",
    "cars_df.columns"
   ]
  },
  {
   "cell_type": "markdown",
   "id": "09723ea3",
   "metadata": {},
   "source": [
    "## Question No.2:"
   ]
  },
  {
   "cell_type": "code",
   "execution_count": 59,
   "id": "b7b46392",
   "metadata": {},
   "outputs": [
    {
     "data": {
      "text/html": [
       "<div>\n",
       "<style scoped>\n",
       "    .dataframe tbody tr th:only-of-type {\n",
       "        vertical-align: middle;\n",
       "    }\n",
       "\n",
       "    .dataframe tbody tr th {\n",
       "        vertical-align: top;\n",
       "    }\n",
       "\n",
       "    .dataframe thead th {\n",
       "        text-align: right;\n",
       "    }\n",
       "</style>\n",
       "<table border=\"1\" class=\"dataframe\">\n",
       "  <thead>\n",
       "    <tr style=\"text-align: right;\">\n",
       "      <th></th>\n",
       "      <th>User ID</th>\n",
       "      <th>Gender</th>\n",
       "      <th>Age</th>\n",
       "      <th>AnnualSalary</th>\n",
       "      <th>Purchased</th>\n",
       "    </tr>\n",
       "  </thead>\n",
       "  <tbody>\n",
       "    <tr>\n",
       "      <th>0</th>\n",
       "      <td>False</td>\n",
       "      <td>False</td>\n",
       "      <td>False</td>\n",
       "      <td>False</td>\n",
       "      <td>False</td>\n",
       "    </tr>\n",
       "    <tr>\n",
       "      <th>1</th>\n",
       "      <td>False</td>\n",
       "      <td>False</td>\n",
       "      <td>False</td>\n",
       "      <td>False</td>\n",
       "      <td>False</td>\n",
       "    </tr>\n",
       "    <tr>\n",
       "      <th>2</th>\n",
       "      <td>False</td>\n",
       "      <td>False</td>\n",
       "      <td>False</td>\n",
       "      <td>False</td>\n",
       "      <td>False</td>\n",
       "    </tr>\n",
       "    <tr>\n",
       "      <th>3</th>\n",
       "      <td>False</td>\n",
       "      <td>False</td>\n",
       "      <td>False</td>\n",
       "      <td>False</td>\n",
       "      <td>False</td>\n",
       "    </tr>\n",
       "    <tr>\n",
       "      <th>4</th>\n",
       "      <td>False</td>\n",
       "      <td>False</td>\n",
       "      <td>False</td>\n",
       "      <td>False</td>\n",
       "      <td>False</td>\n",
       "    </tr>\n",
       "    <tr>\n",
       "      <th>...</th>\n",
       "      <td>...</td>\n",
       "      <td>...</td>\n",
       "      <td>...</td>\n",
       "      <td>...</td>\n",
       "      <td>...</td>\n",
       "    </tr>\n",
       "    <tr>\n",
       "      <th>995</th>\n",
       "      <td>False</td>\n",
       "      <td>False</td>\n",
       "      <td>False</td>\n",
       "      <td>False</td>\n",
       "      <td>False</td>\n",
       "    </tr>\n",
       "    <tr>\n",
       "      <th>996</th>\n",
       "      <td>False</td>\n",
       "      <td>False</td>\n",
       "      <td>False</td>\n",
       "      <td>False</td>\n",
       "      <td>False</td>\n",
       "    </tr>\n",
       "    <tr>\n",
       "      <th>997</th>\n",
       "      <td>False</td>\n",
       "      <td>False</td>\n",
       "      <td>False</td>\n",
       "      <td>False</td>\n",
       "      <td>False</td>\n",
       "    </tr>\n",
       "    <tr>\n",
       "      <th>998</th>\n",
       "      <td>False</td>\n",
       "      <td>False</td>\n",
       "      <td>False</td>\n",
       "      <td>False</td>\n",
       "      <td>False</td>\n",
       "    </tr>\n",
       "    <tr>\n",
       "      <th>999</th>\n",
       "      <td>False</td>\n",
       "      <td>False</td>\n",
       "      <td>False</td>\n",
       "      <td>False</td>\n",
       "      <td>False</td>\n",
       "    </tr>\n",
       "  </tbody>\n",
       "</table>\n",
       "<p>1000 rows × 5 columns</p>\n",
       "</div>"
      ],
      "text/plain": [
       "     User ID  Gender    Age  AnnualSalary  Purchased\n",
       "0      False   False  False         False      False\n",
       "1      False   False  False         False      False\n",
       "2      False   False  False         False      False\n",
       "3      False   False  False         False      False\n",
       "4      False   False  False         False      False\n",
       "..       ...     ...    ...           ...        ...\n",
       "995    False   False  False         False      False\n",
       "996    False   False  False         False      False\n",
       "997    False   False  False         False      False\n",
       "998    False   False  False         False      False\n",
       "999    False   False  False         False      False\n",
       "\n",
       "[1000 rows x 5 columns]"
      ]
     },
     "execution_count": 59,
     "metadata": {},
     "output_type": "execute_result"
    }
   ],
   "source": [
    "# Checking for any missing values or outliers\n",
    "cars_df.isna()"
   ]
  },
  {
   "cell_type": "code",
   "execution_count": 60,
   "id": "24908fca",
   "metadata": {},
   "outputs": [
    {
     "data": {
      "text/plain": [
       "User ID         0\n",
       "Gender          0\n",
       "Age             0\n",
       "AnnualSalary    0\n",
       "Purchased       0\n",
       "dtype: int64"
      ]
     },
     "execution_count": 60,
     "metadata": {},
     "output_type": "execute_result"
    }
   ],
   "source": [
    "# Checking for any missing values or outliers\n",
    "cars_df.isna().sum()"
   ]
  },
  {
   "cell_type": "markdown",
   "id": "3c6115eb",
   "metadata": {},
   "source": [
    "## Question No.3:"
   ]
  },
  {
   "cell_type": "code",
   "execution_count": 61,
   "id": "4f29f94a",
   "metadata": {},
   "outputs": [
    {
     "data": {
      "text/plain": [
       "0      False\n",
       "1      False\n",
       "2      False\n",
       "3      False\n",
       "4      False\n",
       "       ...  \n",
       "995    False\n",
       "996    False\n",
       "997    False\n",
       "998    False\n",
       "999    False\n",
       "Length: 1000, dtype: bool"
      ]
     },
     "execution_count": 61,
     "metadata": {},
     "output_type": "execute_result"
    }
   ],
   "source": [
    "# Checking for any duplication in the provided data.\n",
    "cars_df.duplicated()"
   ]
  },
  {
   "cell_type": "code",
   "execution_count": 62,
   "id": "f097c897",
   "metadata": {},
   "outputs": [
    {
     "data": {
      "text/plain": [
       "0"
      ]
     },
     "execution_count": 62,
     "metadata": {},
     "output_type": "execute_result"
    }
   ],
   "source": [
    "# Checking for any duplication in the provided data.\n",
    "cars_df.duplicated().sum()"
   ]
  },
  {
   "cell_type": "markdown",
   "id": "0ad2ebf5",
   "metadata": {},
   "source": [
    "## Question No.4:"
   ]
  },
  {
   "cell_type": "code",
   "execution_count": 63,
   "id": "973de524",
   "metadata": {},
   "outputs": [],
   "source": [
    "# Dropping the user id column.\n",
    "cars_df = cars_df.drop('User ID', axis=1)"
   ]
  },
  {
   "cell_type": "markdown",
   "id": "391082cd",
   "metadata": {},
   "source": [
    "NOTE: This code removes the ‘User ID’ column from the DataFrame df. The axis=1 parameter specifies that we want to drop a column, and inplace=True ensures that the DataFrame is modified in place."
   ]
  },
  {
   "cell_type": "code",
   "execution_count": 65,
   "id": "818eba60",
   "metadata": {},
   "outputs": [
    {
     "data": {
      "text/html": [
       "<div>\n",
       "<style scoped>\n",
       "    .dataframe tbody tr th:only-of-type {\n",
       "        vertical-align: middle;\n",
       "    }\n",
       "\n",
       "    .dataframe tbody tr th {\n",
       "        vertical-align: top;\n",
       "    }\n",
       "\n",
       "    .dataframe thead th {\n",
       "        text-align: right;\n",
       "    }\n",
       "</style>\n",
       "<table border=\"1\" class=\"dataframe\">\n",
       "  <thead>\n",
       "    <tr style=\"text-align: right;\">\n",
       "      <th></th>\n",
       "      <th>Gender</th>\n",
       "      <th>Age</th>\n",
       "      <th>AnnualSalary</th>\n",
       "      <th>Purchased</th>\n",
       "    </tr>\n",
       "  </thead>\n",
       "  <tbody>\n",
       "    <tr>\n",
       "      <th>0</th>\n",
       "      <td>Male</td>\n",
       "      <td>35</td>\n",
       "      <td>20000</td>\n",
       "      <td>0</td>\n",
       "    </tr>\n",
       "    <tr>\n",
       "      <th>1</th>\n",
       "      <td>Male</td>\n",
       "      <td>40</td>\n",
       "      <td>43500</td>\n",
       "      <td>0</td>\n",
       "    </tr>\n",
       "    <tr>\n",
       "      <th>2</th>\n",
       "      <td>Male</td>\n",
       "      <td>49</td>\n",
       "      <td>74000</td>\n",
       "      <td>0</td>\n",
       "    </tr>\n",
       "    <tr>\n",
       "      <th>3</th>\n",
       "      <td>Male</td>\n",
       "      <td>40</td>\n",
       "      <td>107500</td>\n",
       "      <td>1</td>\n",
       "    </tr>\n",
       "    <tr>\n",
       "      <th>4</th>\n",
       "      <td>Male</td>\n",
       "      <td>25</td>\n",
       "      <td>79000</td>\n",
       "      <td>0</td>\n",
       "    </tr>\n",
       "  </tbody>\n",
       "</table>\n",
       "</div>"
      ],
      "text/plain": [
       "  Gender  Age  AnnualSalary  Purchased\n",
       "0   Male   35         20000          0\n",
       "1   Male   40         43500          0\n",
       "2   Male   49         74000          0\n",
       "3   Male   40        107500          1\n",
       "4   Male   25         79000          0"
      ]
     },
     "execution_count": 65,
     "metadata": {},
     "output_type": "execute_result"
    }
   ],
   "source": [
    "# Checking to be sure that the \"User ID\" column has been dropped\n",
    "cars_df.head()"
   ]
  },
  {
   "cell_type": "markdown",
   "id": "17fad389",
   "metadata": {},
   "source": [
    "## Question No.5:"
   ]
  },
  {
   "cell_type": "code",
   "execution_count": 66,
   "id": "cc22e07c",
   "metadata": {},
   "outputs": [
    {
     "data": {
      "text/plain": [
       "<bound method NDFrame.describe of      Gender  Age  AnnualSalary  Purchased\n",
       "0      Male   35         20000          0\n",
       "1      Male   40         43500          0\n",
       "2      Male   49         74000          0\n",
       "3      Male   40        107500          1\n",
       "4      Male   25         79000          0\n",
       "..      ...  ...           ...        ...\n",
       "995    Male   38         59000          0\n",
       "996  Female   47         23500          0\n",
       "997  Female   28        138500          1\n",
       "998  Female   48        134000          1\n",
       "999  Female   44         73500          0\n",
       "\n",
       "[1000 rows x 4 columns]>"
      ]
     },
     "execution_count": 66,
     "metadata": {},
     "output_type": "execute_result"
    }
   ],
   "source": [
    "# Determining the numerical statistics of the dataset\n",
    "cars_df.describe "
   ]
  },
  {
   "cell_type": "markdown",
   "id": "f2376b9b",
   "metadata": {},
   "source": [
    "## Question No.6:"
   ]
  },
  {
   "cell_type": "code",
   "execution_count": 70,
   "id": "aff860de",
   "metadata": {},
   "outputs": [
    {
     "data": {
      "text/plain": [
       "Female    516\n",
       "Male      484\n",
       "Name: Gender, dtype: int64"
      ]
     },
     "execution_count": 70,
     "metadata": {},
     "output_type": "execute_result"
    }
   ],
   "source": [
    "# Determining How many cars were purchased based on gender.\n",
    "cars_df['Gender'].value_counts()"
   ]
  },
  {
   "cell_type": "code",
   "execution_count": 71,
   "id": "46d122e6",
   "metadata": {},
   "outputs": [
    {
     "data": {
      "text/plain": [
       "0    598\n",
       "1    402\n",
       "Name: Purchased, dtype: int64"
      ]
     },
     "execution_count": 71,
     "metadata": {},
     "output_type": "execute_result"
    }
   ],
   "source": [
    "cars_df['Purchased'].value_counts()"
   ]
  },
  {
   "cell_type": "code",
   "execution_count": 72,
   "id": "ebc64828",
   "metadata": {},
   "outputs": [
    {
     "data": {
      "text/plain": [
       "Gender  Purchased\n",
       "Male    0            301\n",
       "Female  0            297\n",
       "        1            219\n",
       "Male    1            183\n",
       "dtype: int64"
      ]
     },
     "execution_count": 72,
     "metadata": {},
     "output_type": "execute_result"
    }
   ],
   "source": [
    "cars_df[['Gender', 'Purchased']].value_counts()"
   ]
  },
  {
   "cell_type": "markdown",
   "id": "0f5bb19a",
   "metadata": {},
   "source": [
    "NOTE: The above output shows that 219 Females purchased a car each while 297 Female did not purchase any vehicle. On the otherhand out of 484 persons that identified as Male, only 183 persons purchased a car whereas 301 persons didn't purchase any car at all. Total number of persons that purchased a car including Male and Female is 402."
   ]
  },
  {
   "cell_type": "code",
   "execution_count": 79,
   "id": "bec66f0e",
   "metadata": {},
   "outputs": [
    {
     "data": {
      "image/png": "[encoded data removed]",
      "text/plain": [
       "<Figure size 1000x800 with 1 Axes>"
      ]
     },
     "metadata": {},
     "output_type": "display_data"
    }
   ],
   "source": [
    "# Plotting the results for How many cars purchased based on gender\n",
    "gender_counts = cars_df.groupby('Gender')['Purchased'].sum()\n",
    "\n",
    "# Create a bar plot of the results\n",
    "plt.figure(figsize=(10, 8))\n",
    "plt.bar(gender_counts.index, gender_counts.values)\n",
    "plt.title('Number of Cars Purchased by Gender')\n",
    "plt.xlabel('Gender')\n",
    "plt.ylabel('Number of Purchases')\n",
    "plt.show()"
   ]
  },
  {
   "cell_type": "markdown",
   "id": "005f011a",
   "metadata": {},
   "source": [
    "## Question No.7:"
   ]
  },
  {
   "cell_type": "code",
   "execution_count": 95,
   "id": "bd982ee4",
   "metadata": {
    "scrolled": true
   },
   "outputs": [
    {
     "name": "stdout",
     "output_type": "stream",
     "text": [
      "Male Customers' Total earnings: 34091000.\n",
      "Female Customers' Total earnings: 38598000.\n"
     ]
    }
   ],
   "source": [
    "# Finding whether the female customers earn more than the male ones or not.\n",
    "# Split the data into male and female groups\n",
    "male_earnings = cars_df[cars_df['Gender'] == 'Male']['AnnualSalary']\n",
    "female_earnings = cars_df[cars_df['Gender'] == 'Female']['AnnualSalary']\n",
    "\n",
    "print(f\"Male Customers' Total earnings: {male_earnings.sum()}.\")\n",
    "print(f\"Female Customers' Total earnings: {female_earnings.sum()}.\")"
   ]
  },
  {
   "cell_type": "markdown",
   "id": "f0e2d961",
   "metadata": {},
   "source": [
    "NOTE: The output of the code above shows that the Female Customers' total earnings is more than that of the male customers. "
   ]
  },
  {
   "cell_type": "code",
   "execution_count": 102,
   "id": "39247693",
   "metadata": {},
   "outputs": [
    {
     "data": {
      "text/plain": [
       "<function matplotlib.pyplot.show(close=None, block=None)>"
      ]
     },
     "execution_count": 102,
     "metadata": {},
     "output_type": "execute_result"
    },
    {
     "data": {
      "image/png": "[encoded data removed]",
      "text/plain": [
       "<Figure size 800x600 with 1 Axes>"
      ]
     },
     "metadata": {},
     "output_type": "display_data"
    }
   ],
   "source": [
    "# Plotting and interpreting the results\n",
    "plt.figure(figsize=(8, 6))\n",
    "sns.histplot(x='AnnualSalary', hue='Gender', data=cars_df, kde=True) # draws a univariate or bivariate distribution of observations using Seaborn\n",
    "plt.show"
   ]
  },
  {
   "cell_type": "markdown",
   "id": "34ce7fbd",
   "metadata": {},
   "source": [
    "NOTE: The above is a visual representation of the male vs female earnings. The histogram shows that though the male dominated between the Annual salary range of 60,000 and 80,000, however the female customers' total earnings is higher because they significantly dominated the chart below the 60,000 annual range and from 100,000 and above."
   ]
  },
  {
   "cell_type": "markdown",
   "id": "942856ff",
   "metadata": {},
   "source": [
    "## Question No.8:"
   ]
  },
  {
   "cell_type": "code",
   "execution_count": 103,
   "id": "b2a8aae7",
   "metadata": {},
   "outputs": [
    {
     "name": "stdout",
     "output_type": "stream",
     "text": [
      "Gender\n",
      "Female    40.984496\n",
      "Male      39.169421\n",
      "Name: Age, dtype: float64\n",
      "Females are older than males on average.\n"
     ]
    }
   ],
   "source": [
    "# Finfing which gender is older based on the age column\n",
    "# Group the data by gender and calculate the mean age for each group\n",
    "gender_means = cars_df.groupby('Gender')['Age'].mean()\n",
    "\n",
    "# Print the results\n",
    "print(gender_means)\n",
    "if gender_means['Male'] > gender_means['Female']:\n",
    "    print('Males are older than females on average.')\n",
    "elif gender_means['Male'] < gender_means['Female']:\n",
    "    print('Females are older than males on average.')\n",
    "else:\n",
    "    print('The average ages of males and females are the same.')"
   ]
  },
  {
   "cell_type": "code",
   "execution_count": 99,
   "id": "009c91ba",
   "metadata": {},
   "outputs": [
    {
     "data": {
      "text/plain": [
       "<Axes: xlabel='Age', ylabel='Count'>"
      ]
     },
     "execution_count": 99,
     "metadata": {},
     "output_type": "execute_result"
    },
    {
     "data": {
      "image/png": "[encoded data removed]",
      "text/plain": [
       "<Figure size 640x480 with 1 Axes>"
      ]
     },
     "metadata": {},
     "output_type": "display_data"
    }
   ],
   "source": [
    "# Visual representation of which gender is older based on the age column\n",
    "sns.histplot(x='Age', hue='Gender', data=cars_df, kde=True)"
   ]
  },
  {
   "cell_type": "markdown",
   "id": "b4fd6f13",
   "metadata": {},
   "source": [
    "NOTE: From the above code and visualization is evident that the female customers are older than the male on average."
   ]
  },
  {
   "cell_type": "markdown",
   "id": "5acee445",
   "metadata": {},
   "source": [
    "## Question No.9:"
   ]
  },
  {
   "cell_type": "code",
   "execution_count": 104,
   "id": "f4fed8ac",
   "metadata": {},
   "outputs": [
    {
     "name": "stdout",
     "output_type": "stream",
     "text": [
      "The correlation coefficient between age and purchase is: 0.6160363973749046\n"
     ]
    }
   ],
   "source": [
    "# Finding the correlation between the age and purchase. What do you conclude?\n",
    "# Calculate the correlation between age and purchase\n",
    "corr = cars_df['Age'].corr(cars_df['Purchased'])\n",
    "\n",
    "# Print the correlation coefficient\n",
    "print('The correlation coefficient between age and purchase is:', corr)"
   ]
  },
  {
   "cell_type": "markdown",
   "id": "4359ffa9",
   "metadata": {},
   "source": [
    "NOTE: The correlation coefficient is a value between -1 and 1 that indicates the strength and direction of the linear relationship between two variables. The correlation coefficient of 0.6160 above indicates a positive relationship, meaning that the purchase tends to increase as age increases."
   ]
  },
  {
   "cell_type": "code",
   "execution_count": 105,
   "id": "a7f0b62a",
   "metadata": {},
   "outputs": [
    {
     "data": {
      "text/plain": [
       "<Axes: xlabel='Age', ylabel='Count'>"
      ]
     },
     "execution_count": 105,
     "metadata": {},
     "output_type": "execute_result"
    },
    {
     "data": {
      "image/png": "[encoded data removed]",
      "text/plain": [
       "<Figure size 640x480 with 1 Axes>"
      ]
     },
     "metadata": {},
     "output_type": "display_data"
    }
   ],
   "source": [
    "# Plotting the histogram\n",
    "sns.histplot(x='Age', hue='Purchased', data=cars_df, kde=True)"
   ]
  },
  {
   "cell_type": "markdown",
   "id": "41f6ae8f",
   "metadata": {},
   "source": [
    "NOTE: From the visualization above, we can conclude that it was only customers from 50years and above that purchased a car."
   ]
  },
  {
   "cell_type": "markdown",
   "id": "3c1430a9",
   "metadata": {},
   "source": [
    "## Question No.10:"
   ]
  },
  {
   "cell_type": "code",
   "execution_count": 107,
   "id": "80ec7526",
   "metadata": {},
   "outputs": [
    {
     "name": "stdout",
     "output_type": "stream",
     "text": [
      "The correlation coefficient between earnings and purchase is: 0.36497443128283374\n"
     ]
    }
   ],
   "source": [
    "# Analysing the provided dataset to show that who earns more is likely to buy\n",
    "# Calculate the correlation between earnings and purchase\n",
    "corr = cars_df['AnnualSalary'].corr(cars_df['Purchased'])\n",
    "\n",
    "# Print the correlation coefficient\n",
    "print('The correlation coefficient between earnings and purchase is:', corr)"
   ]
  },
  {
   "cell_type": "code",
   "execution_count": 108,
   "id": "ed670546",
   "metadata": {},
   "outputs": [
    {
     "data": {
      "text/plain": [
       "<Axes: xlabel='AnnualSalary', ylabel='Count'>"
      ]
     },
     "execution_count": 108,
     "metadata": {},
     "output_type": "execute_result"
    },
    {
     "data": {
      "image/png": "[encoded data removed]",
      "text/plain": [
       "<Figure size 640x480 with 1 Axes>"
      ]
     },
     "metadata": {},
     "output_type": "display_data"
    }
   ],
   "source": [
    "# Plotting the histogram\n",
    "sns.histplot(x='AnnualSalary', hue='Purchased', data=cars_df, kde=True)"
   ]
  },
  {
   "cell_type": "markdown",
   "id": "a73b698c",
   "metadata": {},
   "source": [
    "NOTE: The visualization above shows that customers who earn more are more likely to buy a car."
   ]
  },
  {
   "cell_type": "code",
   "execution_count": 109,
   "id": "016be343",
   "metadata": {},
   "outputs": [
    {
     "name": "stderr",
     "output_type": "stream",
     "text": [
      "C:\\Users\\user\\AppData\\Local\\Temp\\ipykernel_9960\\2641518194.py:1: FutureWarning: The default value of numeric_only in DataFrame.corr is deprecated. In a future version, it will default to False. Select only valid columns or specify the value of numeric_only to silence this warning.\n",
      "  cars_df.corr()['Purchased'].sort_values()\n"
     ]
    },
    {
     "data": {
      "text/plain": [
       "AnnualSalary    0.364974\n",
       "Age             0.616036\n",
       "Purchased       1.000000\n",
       "Name: Purchased, dtype: float64"
      ]
     },
     "execution_count": 109,
     "metadata": {},
     "output_type": "execute_result"
    }
   ],
   "source": [
    "# Correlation relationship with Purchased column\n",
    "cars_df.corr()['Purchased'].sort_values()"
   ]
  },
  {
   "cell_type": "markdown",
   "id": "791b08b3",
   "metadata": {},
   "source": [
    "NOTE: From the above analysis, we can conlude that the Age (0.616036) is more related with Purchased than AnnualSalary (0.364974)."
   ]
  },
  {
   "cell_type": "code",
   "execution_count": null,
   "id": "08b3f032",
   "metadata": {},
   "outputs": [],
   "source": []
  }
 ],
 "metadata": {
  "kernelspec": {
   "display_name": "Python 3 (ipykernel)",
   "language": "python",
   "name": "python3"
  },
  "language_info": {
   "codemirror_mode": {
    "name": "ipython",
    "version": 3
   },
   "file_extension": ".py",
   "mimetype": "text/x-python",
   "name": "python",
   "nbconvert_exporter": "python",
   "pygments_lexer": "ipython3",
   "version": "3.10.9"
  }
 },
 "nbformat": 4,
 "nbformat_minor": 5
}
